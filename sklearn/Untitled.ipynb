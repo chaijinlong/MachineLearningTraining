{
 "cells": [
  {
   "cell_type": "code",
   "execution_count": 1,
   "metadata": {},
   "outputs": [],
   "source": [
    "import numpy as np\n",
    "import pandas as pd\n",
    "import matplotlib.pyplot as plt\n",
    "from sklearn import datasets"
   ]
  },
  {
   "cell_type": "code",
   "execution_count": 2,
   "metadata": {},
   "outputs": [],
   "source": [
    "iris_data = datasets.load_iris()"
   ]
  },
  {
   "cell_type": "code",
   "execution_count": 3,
   "metadata": {},
   "outputs": [],
   "source": [
    "iris = pd.DataFrame(data=np.c_[iris_data['data'], iris_data['target']], columns=np.append(iris_data.feature_names, ['y']))"
   ]
  },
  {
   "cell_type": "code",
   "execution_count": 12,
   "metadata": {},
   "outputs": [
    {
     "data": {
      "text/plain": [
       "sepal length (cm)    0\n",
       "sepal width (cm)     0\n",
       "petal length (cm)    0\n",
       "petal width (cm)     0\n",
       "y                    0\n",
       "dtype: int64"
      ]
     },
     "execution_count": 12,
     "metadata": {},
     "output_type": "execute_result"
    }
   ],
   "source": [
    "iris.isnull().sum()"
   ]
  },
  {
   "cell_type": "code",
   "execution_count": 13,
   "metadata": {},
   "outputs": [
    {
     "data": {
      "text/html": [
       "<div>\n",
       "<style scoped>\n",
       "    .dataframe tbody tr th:only-of-type {\n",
       "        vertical-align: middle;\n",
       "    }\n",
       "\n",
       "    .dataframe tbody tr th {\n",
       "        vertical-align: top;\n",
       "    }\n",
       "\n",
       "    .dataframe thead th {\n",
       "        text-align: right;\n",
       "    }\n",
       "</style>\n",
       "<table border=\"1\" class=\"dataframe\">\n",
       "  <thead>\n",
       "    <tr style=\"text-align: right;\">\n",
       "      <th></th>\n",
       "      <th>sepal length (cm)</th>\n",
       "      <th>sepal width (cm)</th>\n",
       "      <th>petal length (cm)</th>\n",
       "      <th>petal width (cm)</th>\n",
       "    </tr>\n",
       "    <tr>\n",
       "      <th>y</th>\n",
       "      <th></th>\n",
       "      <th></th>\n",
       "      <th></th>\n",
       "      <th></th>\n",
       "    </tr>\n",
       "  </thead>\n",
       "  <tbody>\n",
       "    <tr>\n",
       "      <th>0.0</th>\n",
       "      <td>50</td>\n",
       "      <td>50</td>\n",
       "      <td>50</td>\n",
       "      <td>50</td>\n",
       "    </tr>\n",
       "    <tr>\n",
       "      <th>1.0</th>\n",
       "      <td>50</td>\n",
       "      <td>50</td>\n",
       "      <td>50</td>\n",
       "      <td>50</td>\n",
       "    </tr>\n",
       "    <tr>\n",
       "      <th>2.0</th>\n",
       "      <td>50</td>\n",
       "      <td>50</td>\n",
       "      <td>50</td>\n",
       "      <td>50</td>\n",
       "    </tr>\n",
       "  </tbody>\n",
       "</table>\n",
       "</div>"
      ],
      "text/plain": [
       "     sepal length (cm)  sepal width (cm)  petal length (cm)  petal width (cm)\n",
       "y                                                                            \n",
       "0.0                 50                50                 50                50\n",
       "1.0                 50                50                 50                50\n",
       "2.0                 50                50                 50                50"
      ]
     },
     "execution_count": 13,
     "metadata": {},
     "output_type": "execute_result"
    }
   ],
   "source": [
    "iris.groupby('y').count()"
   ]
  },
  {
   "cell_type": "code",
   "execution_count": 14,
   "metadata": {},
   "outputs": [],
   "source": [
    "X = iris[iris_data.feature_names]\n",
    "y = iris['y']"
   ]
  },
  {
   "cell_type": "code",
   "execution_count": 17,
   "metadata": {},
   "outputs": [],
   "source": [
    "from sklearn.neighbors import KNeighborsClassifier"
   ]
  },
  {
   "cell_type": "code",
   "execution_count": 18,
   "metadata": {},
   "outputs": [],
   "source": [
    "knn = KNeighborsClassifier(n_neighbors=1)"
   ]
  },
  {
   "cell_type": "code",
   "execution_count": 19,
   "metadata": {},
   "outputs": [
    {
     "data": {
      "text/plain": [
       "KNeighborsClassifier(algorithm='auto', leaf_size=30, metric='minkowski',\n",
       "           metric_params=None, n_jobs=1, n_neighbors=1, p=2,\n",
       "           weights='uniform')"
      ]
     },
     "execution_count": 19,
     "metadata": {},
     "output_type": "execute_result"
    }
   ],
   "source": [
    "knn.fit(X, y)"
   ]
  },
  {
   "cell_type": "code",
   "execution_count": 20,
   "metadata": {},
   "outputs": [
    {
     "data": {
      "text/plain": [
       "array([ 1.])"
      ]
     },
     "execution_count": 20,
     "metadata": {},
     "output_type": "execute_result"
    }
   ],
   "source": [
    "knn.predict([[3, 2, 2, 5]])"
   ]
  },
  {
   "cell_type": "code",
   "execution_count": 21,
   "metadata": {},
   "outputs": [
    {
     "name": "stderr",
     "output_type": "stream",
     "text": [
      "/usr/local/lib/python3.6/site-packages/sklearn/cross_validation.py:41: DeprecationWarning: This module was deprecated in version 0.18 in favor of the model_selection module into which all the refactored classes and functions are moved. Also note that the interface of the new CV iterators are different from that of this module. This module will be removed in 0.20.\n",
      "  \"This module will be removed in 0.20.\", DeprecationWarning)\n"
     ]
    }
   ],
   "source": [
    "from sklearn.cross_validation import train_test_split\n",
    "from sklearn import metrics"
   ]
  },
  {
   "cell_type": "code",
   "execution_count": 22,
   "metadata": {},
   "outputs": [],
   "source": [
    "X_train, X_test, y_train, y_test = train_test_split(X, y, random_state=4)"
   ]
  },
  {
   "cell_type": "code",
   "execution_count": 28,
   "metadata": {},
   "outputs": [
    {
     "data": {
      "text/plain": [
       "KNeighborsClassifier(algorithm='auto', leaf_size=30, metric='minkowski',\n",
       "           metric_params=None, n_jobs=1, n_neighbors=15, p=2,\n",
       "           weights='uniform')"
      ]
     },
     "execution_count": 28,
     "metadata": {},
     "output_type": "execute_result"
    }
   ],
   "source": [
    "knn = KNeighborsClassifier(n_neighbors=15)\n",
    "knn.fit(X_train, y_train)"
   ]
  },
  {
   "cell_type": "code",
   "execution_count": 29,
   "metadata": {},
   "outputs": [
    {
     "name": "stdout",
     "output_type": "stream",
     "text": [
      "Accuracy: 0.973684210526\n"
     ]
    }
   ],
   "source": [
    "y_pred_on_train = knn.predict(X_train)\n",
    "y_pred_on_test = knn.predict(X_test)\n",
    "print('Accuracy: ' + str(metrics.accuracy_score(y_test, y_pred_on_test)))"
   ]
  },
  {
   "cell_type": "code",
   "execution_count": 32,
   "metadata": {},
   "outputs": [
    {
     "name": "stdout",
     "output_type": "stream",
     "text": [
      "Accuracy: 0.947368421053\n",
      "Accuracy: 0.947368421053\n",
      "Accuracy: 0.973684210526\n",
      "Accuracy: 0.973684210526\n",
      "Accuracy: 0.973684210526\n",
      "Accuracy: 0.973684210526\n",
      "Accuracy: 0.973684210526\n",
      "Accuracy: 0.973684210526\n",
      "Accuracy: 0.973684210526\n",
      "Accuracy: 0.973684210526\n",
      "Accuracy: 0.973684210526\n",
      "Accuracy: 0.973684210526\n",
      "Accuracy: 0.973684210526\n",
      "Accuracy: 0.973684210526\n",
      "Accuracy: 0.973684210526\n",
      "Accuracy: 0.973684210526\n",
      "Accuracy: 0.973684210526\n",
      "Accuracy: 0.973684210526\n",
      "Accuracy: 0.973684210526\n",
      "Accuracy: 0.947368421053\n",
      "Accuracy: 0.973684210526\n",
      "Accuracy: 0.947368421053\n",
      "Accuracy: 0.973684210526\n",
      "Accuracy: 0.973684210526\n",
      "Accuracy: 0.973684210526\n",
      "Accuracy: 0.973684210526\n",
      "Accuracy: 0.973684210526\n",
      "Accuracy: 0.947368421053\n",
      "Accuracy: 0.947368421053\n",
      "Accuracy: 0.947368421053\n",
      "Accuracy: 0.947368421053\n",
      "Accuracy: 0.921052631579\n",
      "Accuracy: 0.947368421053\n",
      "Accuracy: 0.973684210526\n",
      "Accuracy: 0.973684210526\n",
      "Accuracy: 0.973684210526\n",
      "Accuracy: 0.973684210526\n",
      "Accuracy: 0.947368421053\n",
      "Accuracy: 0.973684210526\n",
      "Accuracy: 0.973684210526\n",
      "Accuracy: 0.973684210526\n",
      "Accuracy: 0.921052631579\n",
      "Accuracy: 0.973684210526\n",
      "Accuracy: 0.921052631579\n",
      "Accuracy: 0.973684210526\n",
      "Accuracy: 0.973684210526\n",
      "Accuracy: 0.973684210526\n",
      "Accuracy: 0.894736842105\n",
      "Accuracy: 0.947368421053\n",
      "Accuracy: 0.894736842105\n",
      "Accuracy: 0.921052631579\n",
      "Accuracy: 0.921052631579\n",
      "Accuracy: 0.921052631579\n",
      "Accuracy: 0.894736842105\n",
      "Accuracy: 0.894736842105\n",
      "Accuracy: 0.894736842105\n",
      "Accuracy: 0.894736842105\n",
      "Accuracy: 0.894736842105\n",
      "Accuracy: 0.894736842105\n",
      "Accuracy: 0.894736842105\n",
      "Accuracy: 0.894736842105\n",
      "Accuracy: 0.894736842105\n",
      "Accuracy: 0.894736842105\n",
      "Accuracy: 0.894736842105\n",
      "Accuracy: 0.789473684211\n",
      "Accuracy: 0.421052631579\n",
      "Accuracy: 0.421052631579\n",
      "Accuracy: 0.421052631579\n",
      "Accuracy: 0.421052631579\n",
      "Accuracy: 0.421052631579\n",
      "Accuracy: 0.421052631579\n",
      "Accuracy: 0.421052631579\n",
      "Accuracy: 0.421052631579\n",
      "Accuracy: 0.421052631579\n",
      "Accuracy: 0.421052631579\n",
      "Accuracy: 0.210526315789\n",
      "Accuracy: 0.210526315789\n",
      "Accuracy: 0.210526315789\n",
      "Accuracy: 0.210526315789\n",
      "Accuracy: 0.210526315789\n",
      "Accuracy: 0.210526315789\n",
      "Accuracy: 0.210526315789\n",
      "Accuracy: 0.210526315789\n",
      "Accuracy: 0.210526315789\n",
      "Accuracy: 0.210526315789\n",
      "Accuracy: 0.210526315789\n",
      "Accuracy: 0.210526315789\n",
      "Accuracy: 0.210526315789\n",
      "Accuracy: 0.210526315789\n",
      "Accuracy: 0.210526315789\n",
      "Accuracy: 0.210526315789\n",
      "Accuracy: 0.210526315789\n",
      "Accuracy: 0.210526315789\n",
      "Accuracy: 0.210526315789\n",
      "Accuracy: 0.210526315789\n",
      "Accuracy: 0.210526315789\n",
      "Accuracy: 0.210526315789\n",
      "Accuracy: 0.210526315789\n",
      "Accuracy: 0.210526315789\n"
     ]
    }
   ],
   "source": []
  },
  {
   "cell_type": "code",
   "execution_count": null,
   "metadata": {},
   "outputs": [],
   "source": []
  }
 ],
 "metadata": {
  "kernelspec": {
   "display_name": "Python 3",
   "language": "python",
   "name": "python3"
  },
  "language_info": {
   "codemirror_mode": {
    "name": "ipython",
    "version": 3
   },
   "file_extension": ".py",
   "mimetype": "text/x-python",
   "name": "python",
   "nbconvert_exporter": "python",
   "pygments_lexer": "ipython3",
   "version": "3.6.2"
  }
 },
 "nbformat": 4,
 "nbformat_minor": 2
}
